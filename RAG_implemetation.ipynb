{
 "cells": [
  {
   "cell_type": "code",
   "execution_count": 1,
   "metadata": {},
   "outputs": [
    {
     "name": "stderr",
     "output_type": "stream",
     "text": [
      "USER_AGENT environment variable not set, consider setting it to identify your requests.\n"
     ]
    }
   ],
   "source": [
    "from langchain import hub\n",
    "from langchain_community.document_loaders import WebBaseLoader\n",
    "from langchain_community.vectorstores import FAISS\n",
    "from langchain_groq import ChatGroq\n",
    "from langchain_community.embeddings import HuggingFaceBgeEmbeddings\n",
    "from langchain_core.output_parsers import StrOutputParser\n",
    "from langchain.text_splitter import RecursiveCharacterTextSplitter"
   ]
  },
  {
   "cell_type": "code",
   "execution_count": 2,
   "metadata": {},
   "outputs": [],
   "source": [
    "from dotenv import load_dotenv, find_dotenv"
   ]
  },
  {
   "cell_type": "code",
   "execution_count": 3,
   "metadata": {},
   "outputs": [
    {
     "data": {
      "text/plain": [
       "True"
      ]
     },
     "execution_count": 3,
     "metadata": {},
     "output_type": "execute_result"
    }
   ],
   "source": [
    "load_dotenv(find_dotenv())"
   ]
  },
  {
   "cell_type": "code",
   "execution_count": 4,
   "metadata": {},
   "outputs": [],
   "source": [
    "import os"
   ]
  },
  {
   "cell_type": "code",
   "execution_count": 6,
   "metadata": {},
   "outputs": [],
   "source": [
    "os.environ[\"GROQ_API_KEY\"] =  os.getenv(\"GROQ_API_KEY\")"
   ]
  },
  {
   "cell_type": "code",
   "execution_count": 7,
   "metadata": {},
   "outputs": [],
   "source": [
    "import bs4"
   ]
  },
  {
   "cell_type": "markdown",
   "metadata": {},
   "source": [
    "### **Data ingestion**"
   ]
  },
  {
   "cell_type": "code",
   "execution_count": 10,
   "metadata": {},
   "outputs": [],
   "source": [
    "loader = WebBaseLoader(\n",
    "    web_paths=(\"https://www.datanetiix.com/leadership.php\",),\n",
    "    bs_kwargs=dict(\n",
    "        #filter specific parts of the webpage, improving efficiency.\n",
    "        parse_only=bs4.SoupStrainer(\n",
    "            class_=(\"new-leadership-section\", \"modal fade leader-modal lead-modal\")\n",
    "        )\n",
    "    ),\n",
    ")"
   ]
  },
  {
   "cell_type": "code",
   "execution_count": 11,
   "metadata": {},
   "outputs": [],
   "source": [
    "docs=loader.load()"
   ]
  },
  {
   "cell_type": "code",
   "execution_count": 12,
   "metadata": {},
   "outputs": [
    {
     "data": {
      "text/plain": [
       "{'source': 'https://www.datanetiix.com/leadership.php'}"
      ]
     },
     "execution_count": 12,
     "metadata": {},
     "output_type": "execute_result"
    }
   ],
   "source": [
    "docs[0].metadata"
   ]
  },
  {
   "cell_type": "code",
   "execution_count": 15,
   "metadata": {},
   "outputs": [
    {
     "name": "stdout",
     "output_type": "stream",
     "text": [
      "\n",
      "\n",
      "\n",
      "\n",
      "\n",
      "\n",
      "\n",
      "President/Co-Founder\n",
      "\n",
      "\n",
      "Sasi Kannan\n",
      "President/Co-Founder\n",
      "\n",
      "\n",
      "\n",
      "\n",
      "\n",
      "\n",
      "\n",
      "Founder/CEO\n",
      "\n",
      "\n",
      "Bala Sriraghavan\n",
      "Founder/CEO\n",
      "\n",
      "\n",
      "\n",
      "\n",
      "\n",
      "\n",
      "\n",
      "Principal, CISO\n",
      "\n",
      "\n",
      "Rafael Linares\n",
      "Principal, CISO\n",
      "\n",
      "\n",
      "\n",
      "\n",
      "\n",
      "\n",
      "\n",
      "Sr. Director - Delivery/Offshore Head\n",
      "\n",
      "\n",
      "Sornalingam Kadirvelan Ravi (Ravi)\n",
      "Sr. Director - Delivery/Offshore Head\n",
      "\n",
      "\n",
      "\n",
      "\n",
      "\n",
      "\n",
      "\n",
      "\n",
      "\n",
      "Sr. VP – Enterprise Sales\n",
      "\n",
      "\n",
      "Phillip Van Poole\n",
      "Sr. VP – Enterprise Sales\n",
      "\n",
      "\n",
      "\n",
      "\n",
      "\n",
      "\n",
      "\n",
      "Director - Sales & Marketing\n",
      "\n",
      "\n",
      "Anantha Krishnan, MBA\n",
      "Director - Sales & Marketing\n",
      "\n",
      "\n",
      "\n",
      "\n",
      "\n",
      "\n",
      "\n",
      "\n",
      "\n",
      "\n",
      "Phillip Van Poole\n",
      "Sr. VP – Enterprise Sales\n",
      "×\n",
      "\n",
      "\n",
      "\n",
      "Phillip Van Poole boasts a remarkable career spanning over 32 years in sales and marketing management, with roots tracing back to his early education in the vibrant entertainment industry of New York City. Mentored by Mrs. Jan Burger at Youth Activists Now (YAN), Van Poole's journey commenced at age 11, where he showcased exceptional business acumen within the recording industry. His tenure at Atlantic Records marked a significant milestone, becoming the youngest National Director Level employee at just 15 years old, a testament to his unparalleled talent and dedication.\n",
      "                \n",
      "Throughout his illustrious career, Van Poole's impact reverberated across renowned record labels such as BMG, Def Jam Records/Sony, Arista Records, and RCA Records. His strategic prowess and keen understanding of market dynamics led to multimillion-dollar sales for iconic artists, shaping the landscape of the music industry. Van Poole's transition into the technology sector further underscored his versatility and adaptability as he continued to achieve remarkable sales growth at companies like VanStar, Jes/Com Corporation, CIBER, Clients Up Inc., CEO Inc, NIIT-USA, and now with Datanetiix Solutions.\n",
      "Armed with a Bachelor of Arts in Marketing and a plethora of certifications, Van Poole is a seasoned professional with expertise in enterprise software sales, strategic planning, leadership, and team building. His personal attributes, including being results-oriented, a strategic thinker, and an excellent communicator, have been instrumental in driving his success and earning him accolades throughout his career. Van Poole's enduring commitment to excellence and passion for driving transformative change position him as a formidable force in the realms of sales and marketing management.\n",
      "\n",
      "\n",
      "\n",
      "\n",
      "\n",
      "\n",
      "\n",
      "\n",
      "Bala Sriraghavan\n",
      "CEO/Co-Founder, Datanetiix Solutions, Inc.\n",
      "×\n",
      "\n",
      "\n",
      "\n",
      "Balaji (Bala) Sriraghavan is the Founder and CEO of Datanetiix Solutions, Inc., bringing over 25 years of expertise in technology, management, and strategic business solutions. His professional journey spans services, product development, digital transformations, product lifecycle management, and enterprise management, demonstrating a strong ability to deliver impactful solutions to businesses globally.\n",
      "Before founding Datanetiix Solutions, Inc., Bala was the Director of Project Development at Apolis Inc. (RJT Compuquest) and a founding employee at Emantras, Inc. (now part of GP Strategies Corporation). During his tenure, he held key roles such as Account Manager, Delivery Head, and Vice President of Development, contributing significantly to organizational growth and strategic initiatives.\n",
      "As a leader, Bala thrives on managing global teams, embracing innovative technologies, and navigating complex challenges. His expertise overseeing cross-functional projects and delivering end-to-end solutions has earned him a reputation as a trusted advisor in business management, IT strategy, and workforce development.\n",
      "Under Bala’s leadership, Datanetiix has achieved remarkable growth and earned numerous prestigious accolades, including being listed in the INC 5000 for the past three consecutive years, receiving four consecutive IMA Awards, and being recognized as a Great Place to Work and a Top Workplace. Bala has also been instrumental in establishing an innovation research lab, focusing on cutting-edge advancements in Artificial Intelligence, Wearable Technology, and Quantum Computing, further solidifying Datanetiix’ s position as a leader in technology innovation.\n",
      "Beyond his corporate role, Bala is deeply committed to community engagement and professional development. He is an active member of several boards and foundations, including:\n",
      "\n",
      "Pepperdine Graziadio Business School – Board Member\n",
      "Orange County Sheriff's Advisory Council – Member\n",
      "The Joyful Child Foundation – Technical Advisory Member\n",
      "Project Management Institute PMI\n",
      "US Chamber of Commerce\n",
      "District Export Council\n",
      "San Diego Blood Bank and Southern California Blood Bank\n",
      "OC United Way – M. O. B\n",
      "International Marketing Association (IMA)\n",
      "International Executive Council (IEC)\n",
      "\n",
      "He actively mentors’ students and professionals and supports startups in overcoming challenges.\n",
      "A lifelong learner, Bala holds an MS in Computer Engineering and earned his MBA from Pepperdine University’s Graziadio Business School. His passion for innovation, leadership, and community service drives meaningful change, fostering growth and opportunities that positively impact the community while shaping his dynamic career and lasting legacy.\n",
      "\n",
      "\n",
      "\n",
      "\n",
      "\n",
      "\n",
      "\n",
      "\n",
      "Sornalingam Kadirvelan Ravi (Ravi)\n",
      "Sr. Director - Delivery/Offshore Head\n",
      "×\n",
      "\n",
      "\n",
      "\n",
      "Ravi is a seasoned veteran in the IT industry, with over 27 years of ERP implementation, upgrade and support experience. Apart from Building & Leading teams, he has envisioned and implemented a shared services delivery model ensuring both optimal delivery and operational excellence.\n",
      "Serving at the capacity of Principal Consultant, Lead Architect, Ravi has handled global ERP implementation & rollouts, designing & deploying Scalable and Fault tolerant systems capable of handling data influx from mergers & acquisitions, Application landscape review, and consolidations. He has also served as Delivery Assurance Manager, Pre-Sales coordinator for Packaged ERP products & has been a key pillar at the Oracle Competency in the past 20+ years.\n",
      "At Datanetiix, Ravi brings his varied experience, industry best practices to help the customers obtain the best in class experience in terms of project delivery & assurance. He also supports the team in practicing and implementing the latest processes & methodologies like Design thinking & Architecture first approach.\n",
      "His in-depth analysis of the delivery plan has helped the delivery organization uncover risks, mitigate them and focus more on project delivery and innovations. His ability to plan and integrate system updates & patches into the delivery schedule helps customers get their applications working on the latest & secure systems.\n",
      "\n",
      "\n",
      "\n",
      "\n",
      "\n",
      "\n",
      "\n",
      "\n",
      "Anantha Krishnan, MBA\n",
      "Director - Sales & Marketing\n",
      "×\n",
      "\n",
      "\n",
      "\n",
      "A seasoned professional with over 20+ years of experience managing multiple regions & verticals with excellent exposure to Application development, E-Learning, and the software industry. Having a Bachelors in Corporate Secretaryship from the University of Madras, Post Graduate in Sales & Marketing from National Institute of Sales and MBA from Vellore Institute of Technology (VIT)\n",
      "He is strong in business acumen with the ability to execute a wide range of sales and marketing strategies designed to establish a market presence and increase revenues and profitability.\n",
      "Anantha is excellent in managing and leading teams, establishing and enhancing customer relationships, and strategic planning and implementation for results. Posses both technical and management experience and has consistently demonstrated ability and maturity to sell and build relationships with C-Level executives.\n",
      "\n",
      "\n",
      "\n",
      "\n",
      "\n",
      "\n",
      "\n",
      "\n",
      "Rafael Linares\n",
      "Principal, CISO\n",
      "×\n",
      "\n",
      "\n",
      "\n",
      "\n",
      "Rafael is a leader in security industry for the last 3 decades and worked in Fortune 100 companies like Zurich Insurance, 20th Century Fox, Fresh and Easy and ING Group.\n",
      "At Datanetiix, Rafael provides subject matter expertise to help small, medium and large organizaton handles full software life cycle solutions that provide strong \n",
      "                enterprise Security, reduce costs, maximize productivity and improve customer service.\n",
      "\n",
      "\n",
      "\n",
      "\n",
      "\n",
      "\n",
      "\n",
      "\n",
      "Sasikala Kannan\n",
      "President/Co-Founder\n",
      "×\n",
      "\n",
      "\n",
      "\n",
      "Sasi is a highly skilled IT professional with over 25+ years of experience in software development, project management, delivery management, team leadership, and client relationship management.\n",
      "As the Co-Founder and President of Datanetiix Solutions Inc., she is dedicated to fostering a culture of innovation and agility where technology drives business transformation and delivers exceptional customer value. With a passion for leveraging emerging technologies, Sasi focuses on creating sustainable competitive advantages while aligning IT strategies with business goals to enhance efficiency, scalability, and stakeholder success.\n",
      "Sasi leads a multidisciplinary team of experts, delivering cutting-edge solutions across diverse domains, including Artificial Intelligence (AI), Robotic Process Automation (RPA), Microsoft Dynamics, Infrastructure Management, Mobile and Wearable Applications, and Web Portals. By combining deep technical expertise with a business-first mindset, she ensures that our technology solutions empower clients to achieve their objectives.\n",
      "Sasi brings extensive experience in implementing Agile (SCRUM) and Waterfall methodologies to execute complex projects from inception to delivery. Her skills include scope management, resource planning, cost estimation, risk analysis, and quality assurance-ensuring every project is delivered on time, within budget, and aligned with industry standards. Sasi’s dedicated to driving innovation through research and development, achieving operational excellence, and ensuring customer success by staying ahead of technological trends and delivering impactful solutions that create lasting value.\n",
      "Sasi holds a Master’s degree in Computer Applications, a Master’s degree in Commerce, Business Administration, and Accounting, and a Post Graduate Diploma in Computer Applications. Sasi is also a certified Project Management Professional (PMP)® and Certified ScrumMaster (CSM)®.\n",
      "\n",
      "\n",
      "\n",
      "\n"
     ]
    }
   ],
   "source": [
    "print(docs[0].page_content)"
   ]
  },
  {
   "cell_type": "code",
   "execution_count": 16,
   "metadata": {},
   "outputs": [],
   "source": [
    "llm=ChatGroq(model=\"llama-3.3-70b-versatile\")"
   ]
  },
  {
   "cell_type": "code",
   "execution_count": 17,
   "metadata": {},
   "outputs": [],
   "source": [
    "model_name=\"BAAI/bge-small-en\""
   ]
  },
  {
   "cell_type": "code",
   "execution_count": 18,
   "metadata": {},
   "outputs": [],
   "source": [
    "model_kwargs={\"device\": \"cpu\"}"
   ]
  },
  {
   "cell_type": "code",
   "execution_count": 19,
   "metadata": {},
   "outputs": [],
   "source": [
    "encode_kwargs={\"normalize_embeddings\": True}"
   ]
  },
  {
   "cell_type": "code",
   "execution_count": 20,
   "metadata": {},
   "outputs": [
    {
     "name": "stderr",
     "output_type": "stream",
     "text": [
      "C:\\Users\\Vigneswaran\\AppData\\Local\\Temp\\ipykernel_8352\\3017071056.py:1: LangChainDeprecationWarning: The class `HuggingFaceBgeEmbeddings` was deprecated in LangChain 0.2.2 and will be removed in 1.0. An updated version of the class exists in the :class:`~langchain-huggingface package and should be used instead. To use it run `pip install -U :class:`~langchain-huggingface` and import as `from :class:`~langchain_huggingface import HuggingFaceEmbeddings``.\n",
      "  hf_embeddings=HuggingFaceBgeEmbeddings(\n",
      "d:\\Datanetiix_Project\\AI_CHATBOT_DATANETIIX\\AI_ChatBot\\venv\\lib\\site-packages\\tqdm\\auto.py:21: TqdmWarning: IProgress not found. Please update jupyter and ipywidgets. See https://ipywidgets.readthedocs.io/en/stable/user_install.html\n",
      "  from .autonotebook import tqdm as notebook_tqdm\n"
     ]
    },
    {
     "name": "stdout",
     "output_type": "stream",
     "text": [
      "WARNING:tensorflow:From d:\\Datanetiix_Project\\AI_CHATBOT_DATANETIIX\\AI_ChatBot\\venv\\lib\\site-packages\\tf_keras\\src\\losses.py:2976: The name tf.losses.sparse_softmax_cross_entropy is deprecated. Please use tf.compat.v1.losses.sparse_softmax_cross_entropy instead.\n",
      "\n"
     ]
    }
   ],
   "source": [
    "hf_embeddings=HuggingFaceBgeEmbeddings(\n",
    "    model_name=model_name, model_kwargs=model_kwargs, encode_kwargs=encode_kwargs\n",
    ")"
   ]
  },
  {
   "cell_type": "code",
   "execution_count": 21,
   "metadata": {},
   "outputs": [
    {
     "data": {
      "text/plain": [
       "\"\\n\\n\\n\\n\\n\\n\\nPresident/Co-Founder\\n\\n\\nSasi Kannan\\nPresident/Co-Founder\\n\\n\\n\\n\\n\\n\\n\\nFounder/CEO\\n\\n\\nBala Sriraghavan\\nFounder/CEO\\n\\n\\n\\n\\n\\n\\n\\nPrincipal, CISO\\n\\n\\nRafael Linares\\nPrincipal, CISO\\n\\n\\n\\n\\n\\n\\n\\nSr. Director - Delivery/Offshore Head\\n\\n\\nSornalingam Kadirvelan Ravi (Ravi)\\nSr. Director - Delivery/Offshore Head\\n\\n\\n\\n\\n\\n\\n\\n\\n\\nSr. VP – Enterprise Sales\\n\\n\\nPhillip Van Poole\\nSr. VP – Enterprise Sales\\n\\n\\n\\n\\n\\n\\n\\nDirector - Sales & Marketing\\n\\n\\nAnantha Krishnan, MBA\\nDirector - Sales & Marketing\\n\\n\\n\\n\\n\\n\\n\\n\\n\\n\\nPhillip Van Poole\\nSr. VP – Enterprise Sales\\n×\\n\\n\\n\\nPhillip Van Poole boasts a remarkable career spanning over 32 years in sales and marketing management, with roots tracing back to his early education in the vibrant entertainment industry of New York City. Mentored by Mrs. Jan Burger at Youth Activists Now (YAN), Van Poole's journey commenced at age 11, where he showcased exceptional business acumen within the recording industry. His tenure at Atlantic Records marked a significant milestone, becoming the youngest National Director Level employee at just 15 years old, a testament to his unparalleled talent and dedication.\\n                \\nThroughout his illustrious career, Van Poole's impact reverberated across renowned record labels such as BMG, Def Jam Records/Sony, Arista Records, and RCA Records. His strategic prowess and keen understanding of market dynamics led to multimillion-dollar sales for iconic artists, shaping the landscape of the music industry. Van Poole's transition into the technology sector further underscored his versatility and adaptability as he continued to achieve remarkable sales growth at companies like VanStar, Jes/Com Corporation, CIBER, Clients Up Inc., CEO Inc, NIIT-USA, and now with Datanetiix Solutions.\\nArmed with a Bachelor of Arts in Marketing and a plethora of certifications, Van Poole is a seasoned professional with expertise in enterprise software sales, strategic planning, leadership, and team building. His personal attributes, including being results-oriented, a strategic thinker, and an excellent communicator, have been instrumental in driving his success and earning him accolades throughout his career. Van Poole's enduring commitment to excellence and passion for driving transformative change position him as a formidable force in the realms of sales and marketing management.\\n\\n\\n\\n\\n\\n\\n\\n\\nBala Sriraghavan\\nCEO/Co-Founder, Datanetiix Solutions, Inc.\\n×\\n\\n\\n\\nBalaji (Bala) Sriraghavan is the Founder and CEO of Datanetiix Solutions, Inc., bringing over 25 years of expertise in technology, management, and strategic business solutions. His professional journey spans services, product development, digital transformations, product lifecycle management, and enterprise management, demonstrating a strong ability to deliver impactful solutions to businesses globally.\\nBefore founding Datanetiix Solutions, Inc., Bala was the Director of Project Development at Apolis Inc. (RJT Compuquest) and a founding employee at Emantras, Inc. (now part of GP Strategies Corporation). During his tenure, he held key roles such as Account Manager, Delivery Head, and Vice President of Development, contributing significantly to organizational growth and strategic initiatives.\\nAs a leader, Bala thrives on managing global teams, embracing innovative technologies, and navigating complex challenges. His expertise overseeing cross-functional projects and delivering end-to-end solutions has earned him a reputation as a trusted advisor in business management, IT strategy, and workforce development.\\nUnder Bala’s leadership, Datanetiix has achieved remarkable growth and earned numerous prestigious accolades, including being listed in the INC 5000 for the past three consecutive years, receiving four consecutive IMA Awards, and being recognized as a Great Place to Work and a Top Workplace. Bala has also been instrumental in establishing an innovation research lab, focusing on cutting-edge advancements in Artificial Intelligence, Wearable Technology, and Quantum Computing, further solidifying Datanetiix’ s position as a leader in technology innovation.\\nBeyond his corporate role, Bala is deeply committed to community engagement and professional development. He is an active member of several boards and foundations, including:\\n\\nPepperdine Graziadio Business School – Board Member\\nOrange County Sheriff's Advisory Council – Member\\nThe Joyful Child Foundation – Technical Advisory Member\\nProject Management Institute PMI\\nUS Chamber of Commerce\\nDistrict Export Council\\nSan Diego Blood Bank and Southern California Blood Bank\\nOC United Way – M. O. B\\nInternational Marketing Association (IMA)\\nInternational Executive Council (IEC)\\n\\nHe actively mentors’ students and professionals and supports startups in overcoming challenges.\\nA lifelong learner, Bala holds an MS in Computer Engineering and earned his MBA from Pepperdine University’s Graziadio Business School. His passion for innovation, leadership, and community service drives meaningful change, fostering growth and opportunities that positively impact the community while shaping his dynamic career and lasting legacy.\\n\\n\\n\\n\\n\\n\\n\\n\\nSornalingam Kadirvelan Ravi (Ravi)\\nSr. Director - Delivery/Offshore Head\\n×\\n\\n\\n\\nRavi is a seasoned veteran in the IT industry, with over 27 years of ERP implementation, upgrade and support experience. Apart from Building & Leading teams, he has envisioned and implemented a shared services delivery model ensuring both optimal delivery and operational excellence.\\nServing at the capacity of Principal Consultant, Lead Architect, Ravi has handled global ERP implementation & rollouts, designing & deploying Scalable and Fault tolerant systems capable of handling data influx from mergers & acquisitions, Application landscape review, and consolidations. He has also served as Delivery Assurance Manager, Pre-Sales coordinator for Packaged ERP products & has been a key pillar at the Oracle Competency in the past 20+ years.\\nAt Datanetiix, Ravi brings his varied experience, industry best practices to help the customers obtain the best in class experience in terms of project delivery & assurance. He also supports the team in practicing and implementing the latest processes & methodologies like Design thinking & Architecture first approach.\\nHis in-depth analysis of the delivery plan has helped the delivery organization uncover risks, mitigate them and focus more on project delivery and innovations. His ability to plan and integrate system updates & patches into the delivery schedule helps customers get their applications working on the latest & secure systems.\\n\\n\\n\\n\\n\\n\\n\\n\\nAnantha Krishnan, MBA\\nDirector - Sales & Marketing\\n×\\n\\n\\n\\nA seasoned professional with over 20+ years of experience managing multiple regions & verticals with excellent exposure to Application development, E-Learning, and the software industry. Having a Bachelors in Corporate Secretaryship from the University of Madras, Post Graduate in Sales & Marketing from National Institute of Sales and MBA from Vellore Institute of Technology (VIT)\\nHe is strong in business acumen with the ability to execute a wide range of sales and marketing strategies designed to establish a market presence and increase revenues and profitability.\\nAnantha is excellent in managing and leading teams, establishing and enhancing customer relationships, and strategic planning and implementation for results. Posses both technical and management experience and has consistently demonstrated ability and maturity to sell and build relationships with C-Level executives.\\n\\n\\n\\n\\n\\n\\n\\n\\nRafael Linares\\nPrincipal, CISO\\n×\\n\\n\\n\\n\\nRafael is a leader in security industry for the last 3 decades and worked in Fortune 100 companies like Zurich Insurance, 20th Century Fox, Fresh and Easy and ING Group.\\nAt Datanetiix, Rafael provides subject matter expertise to help small, medium and large organizaton handles full software life cycle solutions that provide strong \\n                enterprise Security, reduce costs, maximize productivity and improve customer service.\\n\\n\\n\\n\\n\\n\\n\\n\\nSasikala Kannan\\nPresident/Co-Founder\\n×\\n\\n\\n\\nSasi is a highly skilled IT professional with over 25+ years of experience in software development, project management, delivery management, team leadership, and client relationship management.\\nAs the Co-Founder and President of Datanetiix Solutions Inc., she is dedicated to fostering a culture of innovation and agility where technology drives business transformation and delivers exceptional customer value. With a passion for leveraging emerging technologies, Sasi focuses on creating sustainable competitive advantages while aligning IT strategies with business goals to enhance efficiency, scalability, and stakeholder success.\\nSasi leads a multidisciplinary team of experts, delivering cutting-edge solutions across diverse domains, including Artificial Intelligence (AI), Robotic Process Automation (RPA), Microsoft Dynamics, Infrastructure Management, Mobile and Wearable Applications, and Web Portals. By combining deep technical expertise with a business-first mindset, she ensures that our technology solutions empower clients to achieve their objectives.\\nSasi brings extensive experience in implementing Agile (SCRUM) and Waterfall methodologies to execute complex projects from inception to delivery. Her skills include scope management, resource planning, cost estimation, risk analysis, and quality assurance-ensuring every project is delivered on time, within budget, and aligned with industry standards. Sasi’s dedicated to driving innovation through research and development, achieving operational excellence, and ensuring customer success by staying ahead of technological trends and delivering impactful solutions that create lasting value.\\nSasi holds a Master’s degree in Computer Applications, a Master’s degree in Commerce, Business Administration, and Accounting, and a Post Graduate Diploma in Computer Applications. Sasi is also a certified Project Management Professional (PMP)® and Certified ScrumMaster (CSM)®.\\n\\n\\n\\n\""
      ]
     },
     "execution_count": 21,
     "metadata": {},
     "output_type": "execute_result"
    }
   ],
   "source": [
    "docs[0].page_content"
   ]
  },
  {
   "cell_type": "code",
   "execution_count": 22,
   "metadata": {},
   "outputs": [],
   "source": [
    "text_splitter = RecursiveCharacterTextSplitter(chunk_size=1000, chunk_overlap=200)\n",
    "splits = text_splitter.split_documents(docs)"
   ]
  },
  {
   "cell_type": "code",
   "execution_count": 23,
   "metadata": {},
   "outputs": [
    {
     "data": {
      "text/plain": [
       "16"
      ]
     },
     "execution_count": 23,
     "metadata": {},
     "output_type": "execute_result"
    }
   ],
   "source": [
    "len(splits)"
   ]
  },
  {
   "cell_type": "code",
   "execution_count": 24,
   "metadata": {},
   "outputs": [],
   "source": [
    "splits = text_splitter.split_documents(docs)"
   ]
  },
  {
   "cell_type": "code",
   "execution_count": 25,
   "metadata": {},
   "outputs": [],
   "source": [
    "vectorstore = FAISS.from_documents(documents=splits,embedding=hf_embeddings)"
   ]
  },
  {
   "cell_type": "code",
   "execution_count": 26,
   "metadata": {},
   "outputs": [],
   "source": [
    "retriever=vectorstore.as_retriever()"
   ]
  },
  {
   "cell_type": "code",
   "execution_count": 27,
   "metadata": {},
   "outputs": [
    {
     "data": {
      "text/plain": [
       "9993"
      ]
     },
     "execution_count": 27,
     "metadata": {},
     "output_type": "execute_result"
    }
   ],
   "source": [
    "len(docs[0].page_content)"
   ]
  },
  {
   "cell_type": "markdown",
   "metadata": {},
   "source": [
    "### **Data Retrival Pipeline**"
   ]
  },
  {
   "cell_type": "code",
   "execution_count": 28,
   "metadata": {},
   "outputs": [],
   "source": [
    "prompt = hub.pull(\"rlm/rag-prompt\")"
   ]
  },
  {
   "cell_type": "code",
   "execution_count": 29,
   "metadata": {},
   "outputs": [],
   "source": [
    "import pprint"
   ]
  },
  {
   "cell_type": "code",
   "execution_count": 30,
   "metadata": {},
   "outputs": [
    {
     "data": {
      "text/plain": [
       "[HumanMessagePromptTemplate(prompt=PromptTemplate(input_variables=['context', 'question'], input_types={}, partial_variables={}, template=\"You are an assistant for question-answering tasks. Use the following pieces of retrieved context to answer the question. If you don't know the answer, just say that you don't know. Use three sentences maximum and keep the answer concise.\\nQuestion: {question} \\nContext: {context} \\nAnswer:\"), additional_kwargs={})]"
      ]
     },
     "execution_count": 30,
     "metadata": {},
     "output_type": "execute_result"
    }
   ],
   "source": [
    "prompt.messages"
   ]
  },
  {
   "cell_type": "code",
   "execution_count": 31,
   "metadata": {},
   "outputs": [
    {
     "name": "stdout",
     "output_type": "stream",
     "text": [
      "[HumanMessagePromptTemplate(prompt=PromptTemplate(input_variables=['context', 'question'], input_types={}, partial_variables={}, template=\"You are an assistant for question-answering tasks. Use the following pieces of retrieved context to answer the question. If you don't know the answer, just say that you don't know. Use three sentences maximum and keep the answer concise.\\nQuestion: {question} \\nContext: {context} \\nAnswer:\"), additional_kwargs={})]\n"
     ]
    }
   ],
   "source": [
    "pprint.pprint(prompt.messages)"
   ]
  },
  {
   "cell_type": "code",
   "execution_count": 32,
   "metadata": {},
   "outputs": [
    {
     "data": {
      "text/plain": [
       "ChatPromptTemplate(input_variables=['context', 'question'], input_types={}, partial_variables={}, metadata={'lc_hub_owner': 'rlm', 'lc_hub_repo': 'rag-prompt', 'lc_hub_commit_hash': '50442af133e61576e74536c6556cefe1fac147cad032f4377b60c436e6cdcb6e'}, messages=[HumanMessagePromptTemplate(prompt=PromptTemplate(input_variables=['context', 'question'], input_types={}, partial_variables={}, template=\"You are an assistant for question-answering tasks. Use the following pieces of retrieved context to answer the question. If you don't know the answer, just say that you don't know. Use three sentences maximum and keep the answer concise.\\nQuestion: {question} \\nContext: {context} \\nAnswer:\"), additional_kwargs={})])"
      ]
     },
     "execution_count": 32,
     "metadata": {},
     "output_type": "execute_result"
    }
   ],
   "source": [
    "prompt"
   ]
  },
  {
   "cell_type": "code",
   "execution_count": 33,
   "metadata": {},
   "outputs": [],
   "source": [
    "def format_docs(docs):\n",
    "    return \"\\n\\n\".join(doc.page_content for doc in docs)"
   ]
  },
  {
   "cell_type": "code",
   "execution_count": 34,
   "metadata": {},
   "outputs": [],
   "source": [
    "from langchain_core.runnables import RunnablePassthrough"
   ]
  },
  {
   "cell_type": "code",
   "execution_count": 35,
   "metadata": {},
   "outputs": [],
   "source": [
    "# Chain\n",
    "rag_chain = (\n",
    "    {\"context\": retriever | format_docs, \"question\": RunnablePassthrough()}\n",
    "    | prompt\n",
    "    | llm\n",
    "    | StrOutputParser()\n",
    ")"
   ]
  },
  {
   "cell_type": "markdown",
   "metadata": {},
   "source": [
    "### **Data generation**"
   ]
  },
  {
   "cell_type": "code",
   "execution_count": 37,
   "metadata": {},
   "outputs": [
    {
     "data": {
      "text/plain": [
       "\"The co-founder mentioned is Sasi Kannan, who is the President/Co-Founder. There is no other co-founder mentioned, only a founder, Bala Sriraghavan. I don't know if there are any other co-founders beyond Sasi Kannan.\""
      ]
     },
     "execution_count": 37,
     "metadata": {},
     "output_type": "execute_result"
    }
   ],
   "source": [
    "rag_chain.invoke(\"who is the co founder alone\")"
   ]
  },
  {
   "cell_type": "code",
   "execution_count": null,
   "metadata": {},
   "outputs": [],
   "source": []
  }
 ],
 "metadata": {
  "kernelspec": {
   "display_name": "venv",
   "language": "python",
   "name": "python3"
  },
  "language_info": {
   "codemirror_mode": {
    "name": "ipython",
    "version": 3
   },
   "file_extension": ".py",
   "mimetype": "text/x-python",
   "name": "python",
   "nbconvert_exporter": "python",
   "pygments_lexer": "ipython3",
   "version": "3.9.21"
  }
 },
 "nbformat": 4,
 "nbformat_minor": 2
}
